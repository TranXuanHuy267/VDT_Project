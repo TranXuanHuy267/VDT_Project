{
 "cells": [
  {
   "cell_type": "code",
   "execution_count": 1,
   "metadata": {
    "executionInfo": {
     "elapsed": 9,
     "status": "ok",
     "timestamp": 1684820659248,
     "user": {
      "displayName": "Huy Trần Xuân",
      "userId": "13850776301425990274"
     },
     "user_tz": -420
    },
    "id": "XNNXGYKOf7Pg"
   },
   "outputs": [],
   "source": [
    "%load_ext autoreload\n",
    "%autoreload 2"
   ]
  },
  {
   "cell_type": "code",
   "execution_count": 2,
   "metadata": {
    "executionInfo": {
     "elapsed": 6,
     "status": "ok",
     "timestamp": 1684820664876,
     "user": {
      "displayName": "Huy Trần Xuân",
      "userId": "13850776301425990274"
     },
     "user_tz": -420
    },
    "id": "o4Rf9VToKP7H"
   },
   "outputs": [],
   "source": [
    "import warnings\n",
    "warnings.filterwarnings(\"ignore\")"
   ]
  },
  {
   "cell_type": "code",
   "execution_count": 3,
   "metadata": {
    "colab": {
     "base_uri": "https://localhost:8080/"
    },
    "executionInfo": {
     "elapsed": 27537,
     "status": "ok",
     "timestamp": 1684820695197,
     "user": {
      "displayName": "Huy Trần Xuân",
      "userId": "13850776301425990274"
     },
     "user_tz": -420
    },
    "id": "wO4G_4aiICSV",
    "outputId": "5b614deb-608d-436d-8320-112a1b471a8c"
   },
   "outputs": [],
   "source": [
    "# from google.colab import drive\n",
    "# drive.mount('/content/drive')"
   ]
  },
  {
   "cell_type": "code",
   "execution_count": 4,
   "metadata": {
    "executionInfo": {
     "elapsed": 10,
     "status": "ok",
     "timestamp": 1684820695198,
     "user": {
      "displayName": "Huy Trần Xuân",
      "userId": "13850776301425990274"
     },
     "user_tz": -420
    },
    "id": "2pWLVKZcplAz"
   },
   "outputs": [],
   "source": [
    "# import os\n",
    "# os.chdir(\"/content/drive/MyDrive/Main Project VDT\")"
   ]
  },
  {
   "cell_type": "code",
   "execution_count": 5,
   "metadata": {},
   "outputs": [
    {
     "name": "stdout",
     "output_type": "stream",
     "text": [
      "Defaulting to user installation because normal site-packages is not writeable\n",
      "Requirement already satisfied: torch in ./.local/lib/python3.10/site-packages (2.0.1)\n",
      "Requirement already satisfied: nvidia-cusolver-cu11==11.4.0.1 in ./.local/lib/python3.10/site-packages (from torch) (11.4.0.1)\n",
      "Requirement already satisfied: nvidia-curand-cu11==10.2.10.91 in ./.local/lib/python3.10/site-packages (from torch) (10.2.10.91)\n",
      "Requirement already satisfied: nvidia-cuda-runtime-cu11==11.7.99 in ./.local/lib/python3.10/site-packages (from torch) (11.7.99)\n",
      "Requirement already satisfied: nvidia-cudnn-cu11==8.5.0.96 in ./.local/lib/python3.10/site-packages (from torch) (8.5.0.96)\n",
      "Requirement already satisfied: nvidia-nccl-cu11==2.14.3 in ./.local/lib/python3.10/site-packages (from torch) (2.14.3)\n",
      "Requirement already satisfied: typing-extensions in /usr/local/lib/python3.10/site-packages (from torch) (4.5.0)\n",
      "Requirement already satisfied: nvidia-cusparse-cu11==11.7.4.91 in ./.local/lib/python3.10/site-packages (from torch) (11.7.4.91)\n",
      "Requirement already satisfied: nvidia-cuda-nvrtc-cu11==11.7.99 in ./.local/lib/python3.10/site-packages (from torch) (11.7.99)\n",
      "Requirement already satisfied: jinja2 in /usr/local/lib/python3.10/site-packages (from torch) (3.1.2)\n",
      "Requirement already satisfied: nvidia-cuda-cupti-cu11==11.7.101 in ./.local/lib/python3.10/site-packages (from torch) (11.7.101)\n",
      "Requirement already satisfied: nvidia-cublas-cu11==11.10.3.66 in ./.local/lib/python3.10/site-packages (from torch) (11.10.3.66)\n",
      "Requirement already satisfied: sympy in ./.local/lib/python3.10/site-packages (from torch) (1.12)\n",
      "Requirement already satisfied: nvidia-nvtx-cu11==11.7.91 in ./.local/lib/python3.10/site-packages (from torch) (11.7.91)\n",
      "Requirement already satisfied: triton==2.0.0 in ./.local/lib/python3.10/site-packages (from torch) (2.0.0)\n",
      "Requirement already satisfied: networkx in ./.local/lib/python3.10/site-packages (from torch) (3.1)\n",
      "Requirement already satisfied: filelock in ./.local/lib/python3.10/site-packages (from torch) (3.12.0)\n",
      "Requirement already satisfied: nvidia-cufft-cu11==10.9.0.58 in ./.local/lib/python3.10/site-packages (from torch) (10.9.0.58)\n",
      "Requirement already satisfied: wheel in /usr/local/lib/python3.10/site-packages (from nvidia-cublas-cu11==11.10.3.66->torch) (0.37.1)\n",
      "Requirement already satisfied: setuptools in /usr/local/lib/python3.10/site-packages (from nvidia-cublas-cu11==11.10.3.66->torch) (65.6.3)\n",
      "Requirement already satisfied: cmake in ./.local/lib/python3.10/site-packages (from triton==2.0.0->torch) (3.26.3)\n",
      "Requirement already satisfied: lit in ./.local/lib/python3.10/site-packages (from triton==2.0.0->torch) (16.0.5)\n",
      "Requirement already satisfied: MarkupSafe>=2.0 in /usr/local/lib/python3.10/site-packages (from jinja2->torch) (2.1.1)\n",
      "Requirement already satisfied: mpmath>=0.19 in ./.local/lib/python3.10/site-packages (from sympy->torch) (1.3.0)\n"
     ]
    }
   ],
   "source": [
    "!pip install --upgrade torch"
   ]
  },
  {
   "cell_type": "code",
   "execution_count": 6,
   "metadata": {},
   "outputs": [
    {
     "data": {
      "text/plain": [
       "'import zipfile\\nwith zipfile.ZipFile(\"WebFace260M.zip\", \\'r\\') as zip_ref:\\n    zip_ref.extractall()'"
      ]
     },
     "execution_count": 6,
     "metadata": {},
     "output_type": "execute_result"
    }
   ],
   "source": [
    "\"\"\"import zipfile\n",
    "with zipfile.ZipFile(\"WebFace260M.zip\", 'r') as zip_ref:\n",
    "    zip_ref.extractall()\"\"\""
   ]
  },
  {
   "cell_type": "code",
   "execution_count": 30,
   "metadata": {},
   "outputs": [],
   "source": [
    "import warnings\n",
    "warnings.filterwarnings(\"ignore\")\n",
    "warnings.filterwarnings(\"ignore\", category=UserWarning)"
   ]
  },
  {
   "cell_type": "code",
   "execution_count": 31,
   "metadata": {
    "colab": {
     "base_uri": "https://localhost:8080/"
    },
    "executionInfo": {
     "elapsed": 39970,
     "status": "ok",
     "timestamp": 1684822379974,
     "user": {
      "displayName": "Huy Trần Xuân",
      "userId": "13850776301425990274"
     },
     "user_tz": -420
    },
    "id": "3OBOSmmBt5z3",
    "outputId": "fd138216-309e-4161-d438-5017c893cb32"
   },
   "outputs": [
    {
     "name": "stdout",
     "output_type": "stream",
     "text": [
      "/usr/local/lib/python3.10/site-packages/torchvision/io/image.py:13: UserWarning: Failed to load image Python extension: libtorch_cuda_cu.so: cannot open shared object file: No such file or directory\n",
      "  warn(f\"Failed to load image Python extension: {e}\")\n",
      "Number of GPU: 1\n",
      "/usr/local/lib/python3.10/site-packages/torchvision/io/image.py:13: UserWarning: Failed to load image Python extension: libtorch_cuda_cu.so: cannot open shared object file: No such file or directory\n",
      "  warn(f\"Failed to load image Python extension: {e}\")\n",
      "100%|██████████████████████████████████████████| 10/10 [00:00<00:00, 219.75it/s]\n",
      "100%|█████████████████████████████████████████| 10/10 [00:00<00:00, 1104.69it/s]\n",
      "100%|█████████████████████████████████████████| 10/10 [00:00<00:00, 2507.06it/s]\n",
      " 24%|██████████▎                                | 12/50 [00:04<00:08,  4.40it/s]^C\n",
      "Traceback (most recent call last):\n",
      "  File \"/home/143forever/train_multigpu.py\", line 200, in <module>\n",
      "    mp.spawn(main, args=(world_size, args, config,), nprocs=world_size)\n",
      "  File \"/home/143forever/.local/lib/python3.10/site-packages/torch/multiprocessing/spawn.py\", line 239, in spawn\n",
      "    return start_processes(fn, args, nprocs, join, daemon, start_method='spawn')\n",
      "  File \"/home/143forever/.local/lib/python3.10/site-packages/torch/multiprocessing/spawn.py\", line 197, in start_processes\n",
      "    while not context.join():\n",
      "  File \"/home/143forever/.local/lib/python3.10/site-packages/torch/multiprocessing/spawn.py\", line 109, in join\n",
      "    ready = multiprocessing.connection.wait(\n",
      "  File \"/usr/local/lib/python3.10/multiprocessing/connection.py\", line 931, in wait\n",
      "    ready = selector.select(timeout)\n",
      "  File \"/usr/local/lib/python3.10/selectors.py\", line 416, in select\n",
      "    fd_event_list = self._selector.poll(timeout)\n",
      "KeyboardInterrupt\n",
      " 24%|██████████▎                                | 12/50 [00:04<00:15,  2.44it/s]\n"
     ]
    }
   ],
   "source": [
    "!python train_multigpu.py --exp-name 2205 --number-id 10 --config test_config.json --batch-size 2"
   ]
  },
  {
   "cell_type": "code",
   "execution_count": 17,
   "metadata": {},
   "outputs": [
    {
     "name": "stdout",
     "output_type": "stream",
     "text": [
      "/usr/local/lib/python3.10/site-packages/torchvision/io/image.py:13: UserWarning: Failed to load image Python extension: libtorch_cuda_cu.so: cannot open shared object file: No such file or directory\n",
      "  warn(f\"Failed to load image Python extension: {e}\")\n",
      "100%|██████████████████████████████████████████| 10/10 [00:00<00:00, 212.03it/s]\n",
      "100%|█████████████████████████████████████████| 10/10 [00:00<00:00, 1198.85it/s]\n",
      "100%|█████████████████████████████████████████| 10/10 [00:00<00:00, 2652.10it/s]\n",
      "100%|███████████████████████████████████████████| 50/50 [00:11<00:00,  4.42it/s]\n",
      "Epoch: 1, Train loss: 3.2567, Val loss: 1.9245, Accuracy: 0.1905\n",
      "\tSave checkpoint at epoch 1\n",
      "------------------------------\n",
      "100%|███████████████████████████████████████████| 50/50 [00:08<00:00,  6.22it/s]\n",
      "Epoch: 2, Train loss: 2.3985, Val loss: 1.8558, Accuracy: 0.3810\n",
      "\tSave checkpoint at epoch 2\n",
      "------------------------------\n",
      "100%|███████████████████████████████████████████| 50/50 [00:09<00:00,  5.07it/s]\n",
      "Epoch: 3, Train loss: 2.1238, Val loss: 1.8451, Accuracy: 0.1905\n",
      "------------------------------\n",
      "100%|███████████████████████████████████████████| 50/50 [00:09<00:00,  5.03it/s]\n",
      "Epoch: 4, Train loss: 2.2347, Val loss: 1.5545, Accuracy: 0.3810\n",
      "------------------------------\n",
      "100%|███████████████████████████████████████████| 50/50 [00:10<00:00,  4.92it/s]\n",
      "Epoch: 5, Train loss: 2.3468, Val loss: 2.0147, Accuracy: 0.3810\n",
      "------------------------------\n",
      "100%|███████████████████████████████████████████| 50/50 [00:09<00:00,  5.22it/s]\n",
      "Epoch: 6, Train loss: 2.1045, Val loss: 1.6642, Accuracy: 0.1905\n",
      "------------------------------\n",
      "100%|███████████████████████████████████████████| 50/50 [00:09<00:00,  5.53it/s]\n",
      "Epoch: 7, Train loss: 2.0946, Val loss: 1.8344, Accuracy: 0.3810\n",
      "------------------------------\n",
      "100%|███████████████████████████████████████████| 50/50 [00:09<00:00,  5.21it/s]\n",
      "Epoch: 8, Train loss: 1.9971, Val loss: 1.6891, Accuracy: 0.2857\n",
      "------------------------------\n",
      "100%|███████████████████████████████████████████| 50/50 [00:10<00:00,  4.64it/s]\n",
      "Epoch: 9, Train loss: 2.0245, Val loss: 1.5334, Accuracy: 0.3810\n",
      "------------------------------\n",
      "100%|███████████████████████████████████████████| 50/50 [00:10<00:00,  4.96it/s]\n",
      "Epoch: 10, Train loss: 1.9904, Val loss: 1.5433, Accuracy: 0.3810\n",
      "------------------------------\n",
      "100%|███████████████████████████████████████████| 50/50 [00:09<00:00,  5.25it/s]\n",
      "Epoch: 11, Train loss: 1.9685, Val loss: 1.6129, Accuracy: 0.3810\n",
      "------------------------------\n",
      " 34%|██████████████▌                            | 17/50 [00:03<00:07,  4.40it/s]^C\n",
      " 34%|██████████████▌                            | 17/50 [00:03<00:07,  4.46it/s]\n",
      "Traceback (most recent call last):\n",
      "  File \"/home/143forever/train.py\", line 183, in <module>\n",
      "    main()\n",
      "  File \"/home/143forever/train.py\", line 179, in main\n",
      "    trainer.train(trainloader, valloader, epochs)\n",
      "  File \"/home/143forever/train.py\", line 41, in train\n",
      "    train_loss = self.train_epoch(trainloader)\n",
      "  File \"/home/143forever/train.py\", line 71, in train_epoch\n",
      "    loss.backward()\n",
      "  File \"/home/143forever/.local/lib/python3.10/site-packages/torch/_tensor.py\", line 487, in backward\n",
      "    torch.autograd.backward(\n",
      "  File \"/home/143forever/.local/lib/python3.10/site-packages/torch/autograd/__init__.py\", line 200, in backward\n",
      "    Variable._execution_engine.run_backward(  # Calls into the C++ engine to run the backward pass\n",
      "KeyboardInterrupt\n"
     ]
    }
   ],
   "source": [
    "!python train.py --exp-name 2205 --number-id 10 --config test_config.json --batch-size 2"
   ]
  },
  {
   "cell_type": "code",
   "execution_count": 46,
   "metadata": {
    "colab": {
     "base_uri": "https://localhost:8080/"
    },
    "executionInfo": {
     "elapsed": 18,
     "status": "ok",
     "timestamp": 1684775904061,
     "user": {
      "displayName": "Huy Tran Xuan",
      "userId": "11664675075409793997"
     },
     "user_tz": -420
    },
    "id": "lzn5sRVUJkKU",
    "outputId": "6ec1ad12-b8ab-48f2-9fbc-606defe3b9e7"
   },
   "outputs": [
    {
     "data": {
      "text/plain": [
       "0"
      ]
     },
     "execution_count": 46,
     "metadata": {},
     "output_type": "execute_result"
    }
   ],
   "source": [
    "import gc\n",
    "gc.collect()"
   ]
  },
  {
   "cell_type": "code",
   "execution_count": null,
   "metadata": {},
   "outputs": [],
   "source": []
  },
  {
   "cell_type": "code",
   "execution_count": 9,
   "metadata": {},
   "outputs": [
    {
     "name": "stdout",
     "output_type": "stream",
     "text": [
      "              total        used        free      shared  buff/cache   available\n",
      "Mem:          251Gi        66Gi        17Gi       341Mi       167Gi       182Gi\n",
      "Swap:          11Gi       157Mi        11Gi\n"
     ]
    }
   ],
   "source": [
    "!free -h"
   ]
  },
  {
   "cell_type": "code",
   "execution_count": 24,
   "metadata": {
    "colab": {
     "base_uri": "https://localhost:8080/"
    },
    "executionInfo": {
     "elapsed": 1458,
     "status": "ok",
     "timestamp": 1684776884217,
     "user": {
      "displayName": "Huy Tran Xuan",
      "userId": "11664675075409793997"
     },
     "user_tz": -420
    },
    "id": "dd5tYIAGmu-N",
    "outputId": "e1c86ed3-714e-4ae1-ecae-1be26b11372c"
   },
   "outputs": [
    {
     "name": "stdout",
     "output_type": "stream",
     "text": [
      "              total        used        free      shared  buff/cache   available\n",
      "Mem:          251Gi       145Gi        90Gi       328Mi        15Gi       103Gi\n",
      "Swap:          11Gi       3.2Gi       8.8Gi\n"
     ]
    }
   ],
   "source": [
    "!free -h"
   ]
  },
  {
   "cell_type": "code",
   "execution_count": 2,
   "metadata": {
    "colab": {
     "base_uri": "https://localhost:8080/"
    },
    "executionInfo": {
     "elapsed": 1263,
     "status": "ok",
     "timestamp": 1684776902476,
     "user": {
      "displayName": "Huy Tran Xuan",
      "userId": "11664675075409793997"
     },
     "user_tz": -420
    },
    "id": "s3k6bBaBOzNM",
    "outputId": "3f8c9f74-5aaa-46b5-940c-a0366cd6407c"
   },
   "outputs": [
    {
     "name": "stdout",
     "output_type": "stream",
     "text": [
      "Wed May 24 03:25:56 2023       \n",
      "+-----------------------------------------------------------------------------+\n",
      "| NVIDIA-SMI 460.106.00   Driver Version: 460.106.00   CUDA Version: 11.2     |\n",
      "|-------------------------------+----------------------+----------------------+\n",
      "| GPU  Name        Persistence-M| Bus-Id        Disp.A | Volatile Uncorr. ECC |\n",
      "| Fan  Temp  Perf  Pwr:Usage/Cap|         Memory-Usage | GPU-Util  Compute M. |\n",
      "|                               |                      |               MIG M. |\n",
      "|===============================+======================+======================|\n",
      "|   0  A40                 On   | 00000000:81:00.0 Off |                    0 |\n",
      "|  0%   78C    P0   116W / 300W |  28452MiB / 45634MiB |      0%      Default |\n",
      "|                               |                      |                  N/A |\n",
      "+-------------------------------+----------------------+----------------------+\n",
      "                                                                               \n",
      "+-----------------------------------------------------------------------------+\n",
      "| Processes:                                                                  |\n",
      "|  GPU   GI   CI        PID   Type   Process name                  GPU Memory |\n",
      "|        ID   ID                                                   Usage      |\n",
      "|=============================================================================|\n",
      "+-----------------------------------------------------------------------------+\n"
     ]
    }
   ],
   "source": [
    "!nvidia-smi"
   ]
  },
  {
   "cell_type": "code",
   "execution_count": 14,
   "metadata": {},
   "outputs": [
    {
     "name": "stdout",
     "output_type": "stream",
     "text": [
      "Tue May 23 20:29:19 2023       \n",
      "+-----------------------------------------------------------------------------+\n",
      "| NVIDIA-SMI 460.106.00   Driver Version: 460.106.00   CUDA Version: 11.2     |\n",
      "|-------------------------------+----------------------+----------------------+\n",
      "| GPU  Name        Persistence-M| Bus-Id        Disp.A | Volatile Uncorr. ECC |\n",
      "| Fan  Temp  Perf  Pwr:Usage/Cap|         Memory-Usage | GPU-Util  Compute M. |\n",
      "|                               |                      |               MIG M. |\n",
      "|===============================+======================+======================|\n",
      "|   0  A40                 On   | 00000000:81:00.0 Off |                    0 |\n",
      "|  0%   64C    P0    96W / 300W |  25379MiB / 45634MiB |      0%      Default |\n",
      "|                               |                      |                  N/A |\n",
      "+-------------------------------+----------------------+----------------------+\n",
      "                                                                               \n",
      "+-----------------------------------------------------------------------------+\n",
      "| Processes:                                                                  |\n",
      "|  GPU   GI   CI        PID   Type   Process name                  GPU Memory |\n",
      "|        ID   ID                                                   Usage      |\n",
      "|=============================================================================|\n",
      "+-----------------------------------------------------------------------------+\n"
     ]
    }
   ],
   "source": [
    "!nvidia-smi"
   ]
  },
  {
   "cell_type": "code",
   "execution_count": null,
   "metadata": {
    "colab": {
     "base_uri": "https://localhost:8080/"
    },
    "executionInfo": {
     "elapsed": 17,
     "status": "ok",
     "timestamp": 1684777031241,
     "user": {
      "displayName": "Huy Tran Xuan",
      "userId": "11664675075409793997"
     },
     "user_tz": -420
    },
    "id": "zeQY2kdEm8VG",
    "outputId": "c3b2a389-cef7-4ff8-8a4d-8b24df8c5552"
   },
   "outputs": [
    {
     "name": "stdout",
     "output_type": "stream",
     "text": [
      "Architecture:                    x86_64\n",
      "CPU op-mode(s):                  32-bit, 64-bit\n",
      "Byte Order:                      Little Endian\n",
      "Address sizes:                   46 bits physical, 48 bits virtual\n",
      "CPU(s):                          2\n",
      "On-line CPU(s) list:             0,1\n",
      "Thread(s) per core:              2\n",
      "Core(s) per socket:              1\n",
      "Socket(s):                       1\n",
      "NUMA node(s):                    1\n",
      "Vendor ID:                       GenuineIntel\n",
      "CPU family:                      6\n",
      "Model:                           79\n",
      "Model name:                      Intel(R) Xeon(R) CPU @ 2.20GHz\n",
      "Stepping:                        0\n",
      "CPU MHz:                         2199.998\n",
      "BogoMIPS:                        4399.99\n",
      "Hypervisor vendor:               KVM\n",
      "Virtualization type:             full\n",
      "L1d cache:                       32 KiB\n",
      "L1i cache:                       32 KiB\n",
      "L2 cache:                        256 KiB\n",
      "L3 cache:                        55 MiB\n",
      "NUMA node0 CPU(s):               0,1\n",
      "Vulnerability Itlb multihit:     Not affected\n",
      "Vulnerability L1tf:              Mitigation; PTE Inversion\n",
      "Vulnerability Mds:               Vulnerable; SMT Host state unknown\n",
      "Vulnerability Meltdown:          Vulnerable\n",
      "Vulnerability Mmio stale data:   Vulnerable\n",
      "Vulnerability Retbleed:          Vulnerable\n",
      "Vulnerability Spec store bypass: Vulnerable\n",
      "Vulnerability Spectre v1:        Vulnerable: __user pointer sanitization and use\n",
      "                                 rcopy barriers only; no swapgs barriers\n",
      "Vulnerability Spectre v2:        Vulnerable, IBPB: disabled, STIBP: disabled, PB\n",
      "                                 RSB-eIBRS: Not affected\n",
      "Vulnerability Srbds:             Not affected\n",
      "Vulnerability Tsx async abort:   Vulnerable\n",
      "Flags:                           fpu vme de pse tsc msr pae mce cx8 apic sep mtr\n",
      "                                 r pge mca cmov pat pse36 clflush mmx fxsr sse s\n",
      "                                 se2 ss ht syscall nx pdpe1gb rdtscp lm constant\n",
      "                                 _tsc rep_good nopl xtopology nonstop_tsc cpuid \n",
      "                                 tsc_known_freq pni pclmulqdq ssse3 fma cx16 pci\n",
      "                                 d sse4_1 sse4_2 x2apic movbe popcnt aes xsave a\n",
      "                                 vx f16c rdrand hypervisor lahf_lm abm 3dnowpref\n",
      "                                 etch invpcid_single ssbd ibrs ibpb stibp fsgsba\n",
      "                                 se tsc_adjust bmi1 hle avx2 smep bmi2 erms invp\n",
      "                                 cid rtm rdseed adx smap xsaveopt arat md_clear \n",
      "                                 arch_capabilities\n"
     ]
    }
   ],
   "source": [
    "!lscpu"
   ]
  },
  {
   "cell_type": "code",
   "execution_count": null,
   "metadata": {
    "colab": {
     "base_uri": "https://localhost:8080/"
    },
    "executionInfo": {
     "elapsed": 20,
     "status": "ok",
     "timestamp": 1684777040715,
     "user": {
      "displayName": "Huy Tran Xuan",
      "userId": "11664675075409793997"
     },
     "user_tz": -420
    },
    "id": "-6Ks23A6SABB",
    "outputId": "81693a92-b2b6-40aa-d5db-ff1c42bdb177"
   },
   "outputs": [
    {
     "name": "stdout",
     "output_type": "stream",
     "text": [
      "Architecture:                    x86_64\n",
      "CPU op-mode(s):                  32-bit, 64-bit\n",
      "Byte Order:                      Little Endian\n",
      "Address sizes:                   46 bits physical, 48 bits virtual\n",
      "CPU(s):                          2\n",
      "On-line CPU(s) list:             0,1\n",
      "Thread(s) per core:              2\n",
      "Core(s) per socket:              1\n",
      "Socket(s):                       1\n",
      "NUMA node(s):                    1\n",
      "Vendor ID:                       GenuineIntel\n",
      "CPU family:                      6\n",
      "Model:                           79\n",
      "Model name:                      Intel(R) Xeon(R) CPU @ 2.20GHz\n",
      "Stepping:                        0\n",
      "CPU MHz:                         2199.998\n",
      "BogoMIPS:                        4399.99\n",
      "Hypervisor vendor:               KVM\n",
      "Virtualization type:             full\n",
      "L1d cache:                       32 KiB\n",
      "L1i cache:                       32 KiB\n",
      "L2 cache:                        256 KiB\n",
      "L3 cache:                        55 MiB\n",
      "NUMA node0 CPU(s):               0,1\n",
      "Vulnerability Itlb multihit:     Not affected\n",
      "Vulnerability L1tf:              Mitigation; PTE Inversion\n",
      "Vulnerability Mds:               Vulnerable; SMT Host state unknown\n",
      "Vulnerability Meltdown:          Vulnerable\n",
      "Vulnerability Mmio stale data:   Vulnerable\n",
      "Vulnerability Retbleed:          Vulnerable\n",
      "Vulnerability Spec store bypass: Vulnerable\n",
      "Vulnerability Spectre v1:        Vulnerable: __user pointer sanitization and use\n",
      "                                 rcopy barriers only; no swapgs barriers\n",
      "Vulnerability Spectre v2:        Vulnerable, IBPB: disabled, STIBP: disabled, PB\n",
      "                                 RSB-eIBRS: Not affected\n",
      "Vulnerability Srbds:             Not affected\n",
      "Vulnerability Tsx async abort:   Vulnerable\n",
      "Flags:                           fpu vme de pse tsc msr pae mce cx8 apic sep mtr\n",
      "                                 r pge mca cmov pat pse36 clflush mmx fxsr sse s\n",
      "                                 se2 ss ht syscall nx pdpe1gb rdtscp lm constant\n",
      "                                 _tsc rep_good nopl xtopology nonstop_tsc cpuid \n",
      "                                 tsc_known_freq pni pclmulqdq ssse3 fma cx16 pci\n",
      "                                 d sse4_1 sse4_2 x2apic movbe popcnt aes xsave a\n",
      "                                 vx f16c rdrand hypervisor lahf_lm abm 3dnowpref\n",
      "                                 etch invpcid_single ssbd ibrs ibpb stibp fsgsba\n",
      "                                 se tsc_adjust bmi1 hle avx2 smep bmi2 erms invp\n",
      "                                 cid rtm rdseed adx smap xsaveopt arat md_clear \n",
      "                                 arch_capabilities\n"
     ]
    }
   ],
   "source": [
    "cpu_info = !lscpu\n",
    "for inf_item in cpu_info.get_list():\n",
    "  print(inf_item)"
   ]
  },
  {
   "cell_type": "code",
   "execution_count": null,
   "metadata": {
    "colab": {
     "base_uri": "https://localhost:8080/"
    },
    "executionInfo": {
     "elapsed": 8,
     "status": "ok",
     "timestamp": 1684777046680,
     "user": {
      "displayName": "Huy Tran Xuan",
      "userId": "11664675075409793997"
     },
     "user_tz": -420
    },
    "id": "QpDaqUMtSwl3",
    "outputId": "c74d46e4-a778-4dd8-a4ce-085a1d479af7"
   },
   "outputs": [
    {
     "name": "stdout",
     "output_type": "stream",
     "text": [
      "MemTotal:       13294264 kB\n",
      "MemFree:         5031532 kB\n",
      "MemAvailable:   12050580 kB\n",
      "Buffers:          382080 kB\n",
      "Cached:          6804636 kB\n",
      "SwapCached:            0 kB\n",
      "Active:          1818896 kB\n",
      "Inactive:        6047172 kB\n",
      "Active(anon):       2404 kB\n",
      "Inactive(anon):   681728 kB\n",
      "Active(file):    1816492 kB\n",
      "Inactive(file):  5365444 kB\n",
      "Unevictable:           0 kB\n",
      "Mlocked:               0 kB\n",
      "SwapTotal:             0 kB\n",
      "SwapFree:              0 kB\n",
      "Dirty:              1136 kB\n",
      "Writeback:             0 kB\n",
      "AnonPages:        668684 kB\n",
      "Mapped:           436116 kB\n",
      "Shmem:              4780 kB\n",
      "KReclaimable:     156132 kB\n",
      "Slab:             202888 kB\n",
      "SReclaimable:     156132 kB\n",
      "SUnreclaim:        46756 kB\n",
      "KernelStack:        7104 kB\n",
      "PageTables:        12880 kB\n",
      "NFS_Unstable:          0 kB\n",
      "Bounce:                0 kB\n",
      "WritebackTmp:          0 kB\n",
      "CommitLimit:     6647132 kB\n",
      "Committed_AS:    2787536 kB\n",
      "VmallocTotal:   34359738367 kB\n",
      "VmallocUsed:       75792 kB\n",
      "VmallocChunk:          0 kB\n",
      "Percpu:             1320 kB\n",
      "HardwareCorrupted:     0 kB\n",
      "AnonHugePages:     10240 kB\n",
      "ShmemHugePages:        0 kB\n",
      "ShmemPmdMapped:        0 kB\n",
      "FileHugePages:         0 kB\n",
      "FilePmdMapped:         0 kB\n",
      "CmaTotal:              0 kB\n",
      "CmaFree:               0 kB\n",
      "HugePages_Total:       0\n",
      "HugePages_Free:        0\n",
      "HugePages_Rsvd:        0\n",
      "HugePages_Surp:        0\n",
      "Hugepagesize:       2048 kB\n",
      "Hugetlb:               0 kB\n",
      "DirectMap4k:      404280 kB\n",
      "DirectMap2M:    12175360 kB\n",
      "DirectMap1G:     3145728 kB\n"
     ]
    }
   ],
   "source": [
    "!cat /proc/meminfo"
   ]
  },
  {
   "cell_type": "code",
   "execution_count": null,
   "metadata": {
    "id": "rvzpz3m4suGd"
   },
   "outputs": [],
   "source": [
    "# patch_size=14x14\n",
    "# embed_dim=6144\n",
    "# depth=48\n",
    "# num_heads=48"
   ]
  }
 ],
 "metadata": {
  "accelerator": "GPU",
  "colab": {
   "gpuType": "T4",
   "provenance": []
  },
  "gpuClass": "standard",
  "kernelspec": {
   "display_name": "Python 3 (ipykernel)",
   "language": "python",
   "name": "python3"
  },
  "language_info": {
   "codemirror_mode": {
    "name": "ipython",
    "version": 3
   },
   "file_extension": ".py",
   "mimetype": "text/x-python",
   "name": "python",
   "nbconvert_exporter": "python",
   "pygments_lexer": "ipython3",
   "version": "3.10.9"
  }
 },
 "nbformat": 4,
 "nbformat_minor": 4
}
